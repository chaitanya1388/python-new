{
  "nbformat": 4,
  "nbformat_minor": 0,
  "metadata": {
    "colab": {
      "name": "module 1",
      "provenance": [],
      "authorship_tag": "ABX9TyNa+veU+OZVgHXnzAEDqRgz",
      "include_colab_link": true
    },
    "kernelspec": {
      "name": "python3",
      "display_name": "Python 3"
    },
    "language_info": {
      "name": "python"
    }
  },
  "cells": [
    {
      "cell_type": "markdown",
      "metadata": {
        "id": "view-in-github",
        "colab_type": "text"
      },
      "source": [
        "<a href=\"https://colab.research.google.com/github/chaitanya1388/python-new/blob/module-1/module_1.ipynb\" target=\"_parent\"><img src=\"https://colab.research.google.com/assets/colab-badge.svg\" alt=\"Open In Colab\"/></a>"
      ]
    },
    {
      "cell_type": "code",
      "execution_count": null,
      "metadata": {
        "colab": {
          "base_uri": "https://localhost:8080/"
        },
        "id": "HF3OhYraRtgL",
        "outputId": "fc35b626-e5c8-4d2d-f017-f29aae463aba"
      },
      "outputs": [
        {
          "output_type": "stream",
          "name": "stdout",
          "text": [
            "Enter your value: 10\n",
            "10\n"
          ]
        }
      ],
      "source": [
        "###Accept input from user and store it in variable and print the value\n",
        "val = input(\"Enter your value: \")\n",
        "print(val)"
      ]
    },
    {
      "cell_type": "code",
      "source": [
        "### Use of print statements and use of (.format )for printing different data types"
      ],
      "metadata": {
        "id": "OWRhwGTISA2Z"
      },
      "execution_count": null,
      "outputs": []
    },
    {
      "cell_type": "code",
      "source": [
        "### Use of print statements and use of (.format )for printing different data types\n",
        "age = 18\n",
        "name =\"roshini {}\"\n",
        "print(name.format(age))"
      ],
      "metadata": {
        "id": "nvuTmABCVil4",
        "colab": {
          "base_uri": "https://localhost:8080/"
        },
        "outputId": "801eb567-7452-40ed-920f-6c253eda58c6"
      },
      "execution_count": 2,
      "outputs": [
        {
          "output_type": "stream",
          "name": "stdout",
          "text": [
            "roshini 18\n"
          ]
        }
      ]
    },
    {
      "cell_type": "code",
      "source": [
        "### Take 2 numbers as user input and add, multiply, divide, subtract\n",
        "a=8\n",
        "b=5\n",
        "c=a+b\n",
        "d=a-b\n",
        "e=a*d\n",
        "f=a/b\n",
        "g=a%b\n",
        "print(c)\n",
        "print(d)\n",
        "print(e)\n",
        "print(f)\n",
        "print(g)\n"
      ],
      "metadata": {
        "colab": {
          "base_uri": "https://localhost:8080/"
        },
        "id": "5GVMtu5VfqP7",
        "outputId": "3366c11f-9ef5-4760-8624-c19ac6ef128b"
      },
      "execution_count": null,
      "outputs": [
        {
          "output_type": "stream",
          "name": "stdout",
          "text": [
            "13\n",
            "3\n",
            "24\n",
            "1.6\n",
            "3\n"
          ]
        }
      ]
    },
    {
      "cell_type": "code",
      "source": [
        "### x Conversion of one unit to another (miles to km and etc)\n",
        "a=4\n",
        "min=4*60\n",
        "print(min)\n"
      ],
      "metadata": {
        "colab": {
          "base_uri": "https://localhost:8080/"
        },
        "id": "t40qgCKsgypr",
        "outputId": "5b531eb1-f78a-4b02-8b8b-29a629a3b454"
      },
      "execution_count": null,
      "outputs": [
        {
          "output_type": "stream",
          "name": "stdout",
          "text": [
            "240\n"
          ]
        }
      ]
    },
    {
      "cell_type": "code",
      "source": [
        "###x Conversion of one unit to another(hours to minutes)\n",
        "hours = int(input(\"Input hours: \")) * 3600\n",
        "minutes = int(input(\"Input minutes: \")) * 60\n",
        "time =hours + minutes \n",
        "print(\"The  amounts of seconds\", time)"
      ],
      "metadata": {
        "colab": {
          "base_uri": "https://localhost:8080/"
        },
        "id": "aKBKeMjbitN7",
        "outputId": "f9c59d60-50e8-4e1d-88d5-4ca26eef4fe5"
      },
      "execution_count": null,
      "outputs": [
        {
          "output_type": "stream",
          "name": "stdout",
          "text": [
            "Input hours: 5\n",
            "Input minutes: 20\n",
            "The  amounts of seconds 19200\n"
          ]
        }
      ]
    },
    {
      "cell_type": "code",
      "source": [
        "### Usage of mathematical functions in python like math.ceil, floor, fabs, fmod, trunc, \n",
        "import math\n",
        "a=4.567\n",
        "print(math.ceil(a))\n",
        "b=-9\n",
        "print(math.fabs(b))\n",
        "c=3.67\n",
        "print(math.floor(c))\n",
        "d=2**3\n",
        "print(d)\n",
        "e=math.sqrt(81)\n",
        "print(e)"
      ],
      "metadata": {
        "colab": {
          "base_uri": "https://localhost:8080/"
        },
        "id": "MsU4Z6nNkIKL",
        "outputId": "fa6326e7-0743-410f-c809-671024945bba"
      },
      "execution_count": null,
      "outputs": [
        {
          "output_type": "stream",
          "name": "stdout",
          "text": [
            "5\n",
            "9.0\n",
            "3\n",
            "8\n",
            "9.0\n"
          ]
        }
      ]
    },
    {
      "cell_type": "code",
      "source": [
        "### Building a mathematical calculator that can perform operations according to user input.\n",
        "a=2\n",
        "b=3\n",
        "print('1=\"addition\",2=\"subtraction\",3=\"multiplication\",4=\"division\"')\n",
        "c=int(input(\"enter any number upto 4\"))\n",
        "if c==1:\n",
        "       print(a+b)\n",
        "elif c==2:\n",
        "         print(a-b)\n",
        "elif c==3:\n",
        "         print(a*b)\n",
        "elif c==4:\n",
        "         print(a/b)\n",
        "else:\n",
        "         print(invalid)"
      ],
      "metadata": {
        "colab": {
          "base_uri": "https://localhost:8080/"
        },
        "id": "1tm147cUlqC1",
        "outputId": "4286deff-0be2-404b-9f82-250fcf999c54"
      },
      "execution_count": null,
      "outputs": [
        {
          "output_type": "stream",
          "name": "stdout",
          "text": [
            "1=\"addition\",2=\"subtraction\",3=\"multiplication\",4=\"division\"\n",
            "enter any number upto 41\n",
            "5\n"
          ]
        }
      ]
    },
    {
      "cell_type": "code",
      "source": [
        "###  Accepting 5 different subject marks from user and displaying the grade of the student.\n",
        "sub1=int(input(\"Enter marks of the first subject: \"))\n",
        "sub2=int(input(\"Enter marks of the second subject: \"))\n",
        "sub3=int(input(\"Enter marks of the third subject: \"))\n",
        "sub4=int(input(\"Enter marks of the fourth subject: \"))\n",
        "sub5=int(input(\"Enter marks of the fifth subject: \"))\n",
        "avg=(sub1+sub2+sub3+sub4+sub4)/5\n",
        "if (avg>=90):\n",
        "    print(\"Grade: A\")\n",
        "elif (avg>=80 and avg<90):\n",
        "    print(\"Grade: B\")\n",
        "elif (avg>=70 and avg<80):\n",
        "    print(\"Grade: C\")\n",
        "elif (avg>=60 and avg<70):\n",
        "    print(\"Grade: D\")\n",
        "else:\n",
        "    print(\"Grade: F\")\n"
      ],
      "metadata": {
        "colab": {
          "base_uri": "https://localhost:8080/"
        },
        "id": "7UswqflSlyTZ",
        "outputId": "b5540cb8-df45-4da8-c2c6-627ba0377312"
      },
      "execution_count": null,
      "outputs": [
        {
          "output_type": "stream",
          "name": "stdout",
          "text": [
            "Enter marks of the first subject: 90\n",
            "Enter marks of the second subject: 80\n",
            "Enter marks of the third subject: 70\n",
            "Enter marks of the fourth subject: 80\n",
            "Enter marks of the fifth subject: 90\n",
            "Grade: B\n"
          ]
        }
      ]
    },
    {
      "cell_type": "code",
      "source": [
        "### Printing all even numbers, odd numbers, count of even numbers, count of odd numbers\n",
        "a=int(input(\"enter the first number in the range\"))\n",
        "b=int(input(\"enter the second number in the range\"))\n",
        "for i in range(a,b):\n",
        "   if i%2==0:\n",
        "      print(\"even numbers are\",i)\n",
        "else:\n",
        "      print(\"odd numbers are \",i)\n",
        "\n"
      ],
      "metadata": {
        "colab": {
          "base_uri": "https://localhost:8080/"
        },
        "id": "hrSdzb6Ll7uJ",
        "outputId": "023e5dd4-a543-45ec-a693-64fab662b82c"
      },
      "execution_count": null,
      "outputs": [
        {
          "output_type": "stream",
          "name": "stdout",
          "text": [
            "enter the first number in the range20\n",
            "enter the second number in the range30\n",
            "even numbers are 20\n",
            "even numbers are 22\n",
            "even numbers are 24\n",
            "even numbers are 26\n",
            "even numbers are 28\n",
            "odd numbers are  29\n"
          ]
        }
      ]
    },
    {
      "cell_type": "code",
      "source": [
        "## Check whether the given input is a) palindrome b) strong c) perfect\n",
        "a=int(input(\"enter the number you want to find palindrome for\"))\n",
        "rev=0\n",
        "temp=a\n",
        "while temp>0:\n",
        "    rem=temp%10\n",
        "    rev=(rev*10)+rem\n",
        "    temp=temp//10\n",
        "if a==rev:\n",
        "    print(\"palindrome\")\n",
        "else:\n",
        "    print(\"not a plaindrome\")\n"
      ],
      "metadata": {
        "id": "nmmdceFOqtEx",
        "colab": {
          "base_uri": "https://localhost:8080/"
        },
        "outputId": "ac5e119f-dfc3-4dbb-9e7e-2789b4c93a2b"
      },
      "execution_count": null,
      "outputs": [
        {
          "output_type": "stream",
          "name": "stdout",
          "text": [
            "enter the number you want to find palindrome for25\n",
            "not a plaindrome\n"
          ]
        }
      ]
    },
    {
      "cell_type": "code",
      "source": [
        "# perfect number\n",
        "a=int(input(\"enter the number\"))\n",
        "sum=0\n",
        "for i in range (1,a):\n",
        "                    if a%i==0:\n",
        "                             sum=sum+i\n",
        "if sum==a:\n",
        "         print(\"perfect number\")\n",
        "else:\n",
        "    print(\"not a perfect number\")"
      ],
      "metadata": {
        "id": "sSs165Heli0F",
        "colab": {
          "base_uri": "https://localhost:8080/"
        },
        "outputId": "a5a93fb2-1a48-48d9-ce89-f174ac60f3f1"
      },
      "execution_count": null,
      "outputs": [
        {
          "output_type": "stream",
          "name": "stdout",
          "text": [
            "enter the number25\n",
            "not a perfect number\n"
          ]
        }
      ]
    },
    {
      "cell_type": "code",
      "source": [
        "#strong number\n",
        "a=int(input(\"enter the number\"))\n",
        "sum=0\n",
        "temp=a\n",
        "while temp>0:\n",
        "            fact=1\n",
        "            i=1\n",
        "             rem=temp%10\n",
        "while i<=rem:\n",
        "            fact=fact*i\n",
        "            i=i+1\n",
        "            sum=sum+fact\n",
        "            temp=temp//10\n",
        "            print(sum)\n",
        "            if a==sum:\n",
        "            print(\"yes it is strong number\")\n",
        "else:\n",
        "    print(\"no\")  \n"
      ],
      "metadata": {
        "id": "YMXSDwom5Xn4"
      },
      "execution_count": null,
      "outputs": []
    },
    {
      "cell_type": "code",
      "source": [
        "## Compute compound interest using loop for a certain principal and interest amount\n",
        "import math\n",
        "p=int(input(\"enter the principal amount\"))\n",
        "r=int(input(\"enter the intrest amount\"))\n",
        "t=int(input(\"amount of years\"))\n",
        "for i in range(1,t+1):\n",
        "                     si=(p*i*r)//100\n",
        "                     print(i,\"yr interst si is \",si)\n",
        "                     ci=p*(math.pow(1+r/100,i))\n",
        "                     print(i,\"yr interst ci is \",ci)"
      ],
      "metadata": {
        "colab": {
          "base_uri": "https://localhost:8080/"
        },
        "id": "UKdqsPpa_4Ub",
        "outputId": "e9f8aad3-9d12-4e7e-eeff-67f012f03305"
      },
      "execution_count": null,
      "outputs": [
        {
          "output_type": "stream",
          "name": "stdout",
          "text": [
            "enter the principal amount100\n",
            "enter the intrest amount5\n",
            "amount of years2\n",
            "1 yr interst si is  5\n",
            "1 yr interst ci is  105.0\n",
            "2 yr interst si is  10\n",
            "2 yr interst ci is  110.25\n"
          ]
        }
      ]
    },
    {
      "cell_type": "code",
      "source": [
        ""
      ],
      "metadata": {
        "id": "kSOlvPphE9Ux"
      },
      "execution_count": null,
      "outputs": []
    }
  ]
}