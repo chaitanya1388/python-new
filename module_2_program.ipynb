{
  "nbformat": 4,
  "nbformat_minor": 0,
  "metadata": {
    "colab": {
      "name": "module 2 program",
      "provenance": [],
      "authorship_tag": "ABX9TyMABqQAdewg70QzW8Z1wpKS",
      "include_colab_link": true
    },
    "kernelspec": {
      "name": "python3",
      "display_name": "Python 3"
    },
    "language_info": {
      "name": "python"
    }
  },
  "cells": [
    {
      "cell_type": "markdown",
      "metadata": {
        "id": "view-in-github",
        "colab_type": "text"
      },
      "source": [
        "<a href=\"https://colab.research.google.com/github/chaitanya1388/python-new/blob/module-2/module_2_program.ipynb\" target=\"_parent\"><img src=\"https://colab.research.google.com/assets/colab-badge.svg\" alt=\"Open In Colab\"/></a>"
      ]
    },
    {
      "cell_type": "code",
      "execution_count": null,
      "metadata": {
        "id": "_iKwk6hTVBr0",
        "colab": {
          "base_uri": "https://localhost:8080/"
        },
        "outputId": "3a9a503b-7376-41c4-9c2e-206a3df66037"
      },
      "outputs": [
        {
          "output_type": "stream",
          "name": "stdout",
          "text": [
            "The gcd of 60 and 48 is : 12\n"
          ]
        }
      ],
      "source": [
        "### x Recursive function to compute GCD of 2 numbers\n",
        "\n",
        "import math\n",
        "print(\"The gcd of 60 and 48 is : \", end=\"\")\n",
        "print(math.gcd(60, 48))\n"
      ]
    },
    {
      "cell_type": "code",
      "source": [
        "### x Recursive function to find product of two numbers\n",
        "def compute_product(val_1,val_2):\n",
        "   if(val_1<val_2):\n",
        "      return compute_product(val_2,val_1)\n",
        "   elif(val_2!=0):\n",
        "      return(val_1+compute_product(val_1,val_2-1))\n",
        "   else:\n",
        "      return 0\n",
        "val_1 = int(input(\"Enter the first number... \"))\n",
        "val_2 = int(input(\"Enter the second number... \"))\n",
        "print(\"The computed product is: \")\n",
        "print(compute_product(val_1,val_2))"
      ],
      "metadata": {
        "colab": {
          "base_uri": "https://localhost:8080/"
        },
        "id": "Vfe6XrhlY8fH",
        "outputId": "62a69041-6514-4028-c691-d10cfef51bdd"
      },
      "execution_count": null,
      "outputs": [
        {
          "output_type": "stream",
          "name": "stdout",
          "text": [
            "Enter the first number... 5\n",
            "Enter the second number... 2\n",
            "The computed product is: \n",
            "10\n"
          ]
        }
      ]
    },
    {
      "cell_type": "code",
      "source": [
        "### Recursive function to generate Fibonacci series\n",
        "def recur_fibo(n):\n",
        "   if n <= 1:\n",
        "       return n\n",
        "   else:\n",
        "       return(recur_fibo(n-1) + recur_fibo(n-2))\n",
        "\n",
        "nterms = 5\n",
        "\n",
        "# check if the number of terms is valid\n",
        "if nterms <= 0:\n",
        "   print(\"Plese enter a positive integer\")\n",
        "else:\n",
        "   print(\"Fibonacci sequence:\")\n",
        "   for i in range(nterms):\n",
        "       print(recur_fibo(i))"
      ],
      "metadata": {
        "colab": {
          "base_uri": "https://localhost:8080/"
        },
        "id": "hjlbS-FCbPGy",
        "outputId": "a354dadb-8677-45d9-f88b-0929020f9d0a"
      },
      "execution_count": null,
      "outputs": [
        {
          "output_type": "stream",
          "name": "stdout",
          "text": [
            "Fibonacci sequence:\n",
            "0\n",
            "1\n",
            "1\n",
            "2\n",
            "3\n"
          ]
        }
      ]
    },
    {
      "cell_type": "code",
      "source": [
        "### Program to get the difference between the two lists\n",
        "def Diff(li1, li2):\n",
        "    return list(set(li1) - set(li2)) + list(set(li2) - set(li1))\n",
        "li1 = [10, 15, 20, 25, 30, 35, 40]\n",
        "li2 = [25, 40, 35]\n",
        "print(Diff(li1, li2))\n"
      ],
      "metadata": {
        "id": "eMfmziGvcAVW",
        "colab": {
          "base_uri": "https://localhost:8080/"
        },
        "outputId": "4549dc9d-a359-40a9-d37c-08db07f353fd"
      },
      "execution_count": null,
      "outputs": [
        {
          "output_type": "stream",
          "name": "stdout",
          "text": [
            "[10, 20, 30, 15]\n"
          ]
        }
      ]
    },
    {
      "cell_type": "code",
      "source": [
        "###  x Program to find the second smallest number and second largest number in a list.\n",
        "def find_len(list1):\n",
        "     length = len(list1)\n",
        "     list1.sort()\n",
        "     print(\"Largest element is:\", list1[length-1])\n",
        "     print(\"Smallest element is:\", list1[0])\n",
        "     print(\"Second Largest element is:\", list1[length-2])\n",
        "     print(\"Second Smallest element is:\", list1[1])\n",
        " \n",
        "list1=[1, 2, 3, 44, 5, 6, 7, 8, 9]\n",
        "Largest = find_len(list1)"
      ],
      "metadata": {
        "colab": {
          "base_uri": "https://localhost:8080/"
        },
        "id": "lWTMFBJld2G5",
        "outputId": "e83e070d-cb94-4eb6-ca26-60b4dd32fab8"
      },
      "execution_count": null,
      "outputs": [
        {
          "output_type": "stream",
          "name": "stdout",
          "text": [
            "Largest element is: 44\n",
            "Smallest element is: 1\n",
            "Second Largest element is: 9\n",
            "Second Smallest element is: 2\n"
          ]
        }
      ]
    },
    {
      "cell_type": "code",
      "source": [
        "###x Program to remove a key from a dictionary\n",
        "myDict = {'a':1,'b':2,'c':3,'d':4}\n",
        "print(myDict)\n",
        "if 'a' in myDict: \n",
        "    del myDict['a']\n",
        "print(myDict)"
      ],
      "metadata": {
        "id": "OEg3DcGstRRo",
        "colab": {
          "base_uri": "https://localhost:8080/"
        },
        "outputId": "07e79a60-8ef7-4790-fb97-dc0c2bc5cb95"
      },
      "execution_count": null,
      "outputs": [
        {
          "output_type": "stream",
          "name": "stdout",
          "text": [
            "{'a': 1, 'b': 2, 'c': 3, 'd': 4}\n",
            "{'b': 2, 'c': 3, 'd': 4}\n"
          ]
        }
      ]
    },
    {
      "cell_type": "code",
      "source": [
        "### Program to count the number of strings where the string length is 2 or more and\n",
        "def match_words(words):\n",
        "  ctr = 0\n",
        "\n",
        "  for word in words:\n",
        "    if len(word) > 1 and word[0] == word[-1]: \n",
        "      ctr += 1\n",
        "  return ctr\n",
        "\n",
        "print(match_words(['abc', 'xyz', 'aba', '1221']))\n"
      ],
      "metadata": {
        "colab": {
          "base_uri": "https://localhost:8080/"
        },
        "id": "Re5P-DCS-f17",
        "outputId": "0b747b26-e31d-4315-fea8-a1e3dca0131b"
      },
      "execution_count": null,
      "outputs": [
        {
          "output_type": "stream",
          "name": "stdout",
          "text": [
            "2\n"
          ]
        }
      ]
    },
    {
      "cell_type": "code",
      "source": [
        ""
      ],
      "metadata": {
        "id": "YQPAFuoI_Nu9"
      },
      "execution_count": null,
      "outputs": []
    }
  ]
}